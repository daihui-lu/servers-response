{
 "cells": [
  {
   "cell_type": "code",
   "execution_count": 1,
   "metadata": {},
   "outputs": [
    {
     "name": "stdout",
     "output_type": "stream",
     "text": [
      "pygame 1.9.6\n",
      "Hello from the pygame community. https://www.pygame.org/contribute.html\n"
     ]
    }
   ],
   "source": [
    "from random import seed, expovariate\n",
    "import random\n",
    "from math import sqrt, pow\n",
    "import pygame\n",
    "from pygame.locals import QUIT\n",
    "from coinor.blimpy import Queue, PriorityQueue\n",
    "from random import random\n",
    "import collections \n",
    "import heapq\n",
    "import numpy as np\n",
    "import matplotlib.pyplot as plt"
   ]
  },
  {
   "cell_type": "code",
   "execution_count": 2,
   "metadata": {},
   "outputs": [],
   "source": [
    "# Event Types\n",
    "ARRIVE = 0\n",
    "DEPART = 1\n",
    "# Server States\n",
    "IDLE = 0\n",
    "BUSY = 1"
   ]
  },
  {
   "cell_type": "code",
   "execution_count": 3,
   "metadata": {},
   "outputs": [],
   "source": [
    "class Event(object):\n",
    "    '''\n",
    "    Basically there are two event types, arrival and departure, this class can\n",
    "    generate instances of arrival and departure events. See the file\n",
    "    documentation for description of attributes.\n",
    "    '''\n",
    "    def __init__(self, eventType, eventNumber, eventTime, serverNumber = None):\n",
    "        '''\n",
    "        Constructor of the class. Input descriptions are same as in the\n",
    "        module (up) documentation, server input is optional.\n",
    "        '''\n",
    "        self.number = eventNumber\n",
    "        self.eventType = eventType\n",
    "        self.eventTime = eventTime\n",
    "        self.serverNumber = serverNumber\n",
    "        if self.eventType == ARRIVE:\n",
    "            self.name = 'arrival'+str(self.number)\n",
    "        elif self.eventType == DEPART:\n",
    "            self.name = 'departure'+str(self.number)\n",
    "        else:\n",
    "            print(\"unknown event type\")\n",
    "\n",
    "    def __gt__(self, other):\n",
    "        '''\n",
    "        Returns True if self.eventTime > other.eventTime\n",
    "        '''\n",
    "        return self.eventTime > other.eventTime\n",
    "\n",
    "    def __ge__(self, other):\n",
    "        '''\n",
    "        Returns True if self.eventTime >= other.eventTime\n",
    "        '''\n",
    "        return self.eventTime >= other.eventTime\n",
    "\n",
    "    def __lt__(self, other):\n",
    "        '''\n",
    "        Returns True if self.eventTime < other.eventTime\n",
    "        '''\n",
    "        return self.eventTime < other.eventTime\n",
    "\n",
    "    def __le__(self, other):\n",
    "        '''\n",
    "        Returns True if self.eventTime <= other.eventTime\n",
    "        '''\n",
    "        return self.eventTime <= other.eventTime\n",
    "\n",
    "    def __eq__(self, other):\n",
    "        '''\n",
    "        returns True if self.eventTime == other.eventTime\n",
    "        '''\n",
    "        return self.eventTime == other.eventTime\n",
    "\n",
    "    def __ne__(self, other):\n",
    "        '''\n",
    "        Returns True if self.eventTime != other.eventTime\n",
    "        '''\n",
    "        return self.eventTime != other.eventTime"
   ]
  },
  {
   "cell_type": "code",
   "execution_count": 4,
   "metadata": {},
   "outputs": [],
   "source": [
    "class Customer(object):\n",
    "    '''\n",
    "    Customer class. A basic class with only constructor method and 3\n",
    "    attributes.\n",
    "    '''\n",
    "    def  __init__(self, entryTime, serviceTime, customerNumber):\n",
    "        '''\n",
    "        Initializes class attributes. See module documentation for explanation\n",
    "        of attributes.\n",
    "        '''\n",
    "        self.entryTime = entryTime\n",
    "        self.serviceTime = serviceTime\n",
    "        self.number = customerNumber\n"
   ]
  },
  {
   "cell_type": "markdown",
   "metadata": {},
   "source": [
    "# Single queue single server"
   ]
  },
  {
   "cell_type": "code",
   "execution_count": 347,
   "metadata": {},
   "outputs": [],
   "source": [
    "class singleQueue(object):\n",
    "    '''\n",
    "    This class holds the attributes and methods for the simulation of M/M/s\n",
    "    queueing system\n",
    "    '''\n",
    "    def __init__(self, IAT = 3, ST = 8, queuelim = 10,\n",
    "                 server_num = 1, queueing_mode = 'single', bar = 3):\n",
    "        '''\n",
    "        Constructor of the class, sets initial values for class attributes\n",
    "        Post: self.ii, self.seed, self.IAT, self.ST, self.currentTime,\n",
    "        self.eventTable, self.waitingTime, self.TIS, self.serviceTime,\n",
    "        self.eventCounter, self.customerCounter, self.server, self.sqList\n",
    "        self.pi\n",
    "        '''\n",
    "        self.queuelim = queuelim\n",
    "        self.bar = bar\n",
    "        self.ii = 0\n",
    "#         seed(seedInput)\n",
    "#         self.seed = seedInput\n",
    "        self.IAT = IAT\n",
    "        self.ST = ST\n",
    "        self.currentTime = 0.0\n",
    "#         self.queueSize = {}\n",
    "        self.clock = []\n",
    "        self.queueLen = []\n",
    "        self.eventTable = []\n",
    "        self.waitingTime = {}\n",
    "        self.TIS = {}\n",
    "        self.serviceTime = {}\n",
    "        self.eventCounter = 0\n",
    "        self.customerCounter = 0\n",
    "        self.eventCounter = 0\n",
    "        \n",
    "        self.customerLow = 0\n",
    "        self.customerHigh = 0\n",
    "        \n",
    "#         self.meanCustomerNumber = 0\n",
    "        self.set_mode(server_num, queueing_mode)\n",
    "        self.server = [IDLE]\n",
    "        self.sqList = [Queue()]\n",
    "#         self.numberInSystem = []\n",
    "        self.add_event(ARRIVE, self.currentTime)\n",
    "\n",
    "    def set_mode(self, server_num = None, queueing_mode = None):\n",
    "        '''\n",
    "        server_num is a positive integer queueing_mode is either 'single',\n",
    "        'random', or 'shortest' graphics_mode is either string 'off' or 'on'\n",
    "        '''\n",
    "        if queueing_mode:\n",
    "            self.queueing_mode = queueing_mode\n",
    "        if server_num:\n",
    "            self.server_num = server_num          \n",
    "            self.queue_num = self.server_num            \n",
    "\n",
    "    def simulate(self, simulationLength):\n",
    "        '''\n",
    "        Simulates the system for simulationLength time units\n",
    "        '''\n",
    "        while self.currentTime <= simulationLength:\n",
    "            event = self.get_event()\n",
    "            self.process_event(event)\n",
    "            \n",
    "    def which_queue(self):\n",
    "        '''\n",
    "        When an arrival occurs this methods is called if  there is an available\n",
    "        server this method returns to the tuple of (queue,server) where queue\n",
    "        represents the queue that the customer should join and server is one of\n",
    "        the available servers if there is no available server, server value\n",
    "        returned is None\n",
    "        '''\n",
    "        # Single server policy\n",
    "        if self.sqList[0].isEmpty():\n",
    "            if self.server[0] == IDLE:\n",
    "                self.server[0] = BUSY\n",
    "                return 0, 1\n",
    "        else:\n",
    "            return 0, None\n",
    "        return 0, None\n",
    "    \n",
    "# need to consider which_queue: the first arrival needs to depart        \n",
    "    def process_event(self, event):\n",
    "        '''\n",
    "        processes event given and updates sqList and eventTable accordingly\n",
    "        '''\n",
    "#         self.queueSize[self.currentTime] = self.sqList[0].size()\n",
    "#         print(self.seed)\n",
    "        self.eventCounter += 1\n",
    "        self.clock.append(self.currentTime)\n",
    "        if self.server[0] == BUSY:\n",
    "            self.queueLen.append(self.sqList[0].size()+1)\n",
    "        else:\n",
    "            self.queueLen.append(self.sqList[0].size())\n",
    "        eventTime, eventType = event\n",
    "        \n",
    "        if eventType == ARRIVE: \n",
    "            \n",
    "            serviceTime = expovariate(1.0/self.ST)            \n",
    "            self.add_event(ARRIVE, self.currentTime+expovariate(1.0/self.IAT))\n",
    "#             print(self.queueLen[-1] )\n",
    "            if self.sqList[0].size() < self.queuelim:\n",
    "                whichQueue, whichServer = self.which_queue()\n",
    "                if whichServer == None:\n",
    "                    self.sqList[whichQueue].enqueue(Customer(self.currentTime, \n",
    "                                                             serviceTime, \n",
    "                                                             self.customerCounter))\n",
    "                else:\n",
    "                    self.waitingTime[self.customerCounter] = 0\n",
    "                    self.serviceTime[self.customerCounter] = serviceTime\n",
    "                    self.add_event(DEPART, self.currentTime + serviceTime)\n",
    "                self.customerCounter += 1\n",
    "                \n",
    "                                   \n",
    "        elif eventType == DEPART:\n",
    "\n",
    "            q = self.sqList[0]\n",
    "            if not q.isEmpty():\n",
    "#                 print(q.size())\n",
    "                    \n",
    "                customer = q.dequeue()\n",
    "                if q.size() < self.bar:\n",
    "                    customer.serviceTime *= 2\n",
    "                    self.customerLow += 1\n",
    "                else:\n",
    "                    self.customerHigh += 1\n",
    "                    \n",
    "                self.waitingTime[customer.number] = (self.currentTime - \n",
    "                                                     customer.entryTime)\n",
    "                self.serviceTime[customer.number] = customer.serviceTime\n",
    "                self.add_event(DEPART, self.currentTime + customer.serviceTime)\n",
    "            else:\n",
    "                self.server[0] = IDLE\n",
    "        else:\n",
    "            print(\"Unknown event type\")\n",
    "\n",
    "    def add_event(self, eventType, eventTime):\n",
    "        '''\n",
    "        Adds event to the eventTable\n",
    "        '''        \n",
    "        self.eventCounter += 1\n",
    "        heapq.heappush(self.eventTable, (eventTime, eventType))\n",
    "        \n",
    "    def get_event(self):\n",
    "        '''\n",
    "        Gets the first event in the event table\n",
    "        '''        \n",
    "        eventTime, eventType = heapq.heappop(self.eventTable)\n",
    "        self.currentTime = eventTime\n",
    "        return (eventTime, eventType)\n",
    "    \n",
    "    def stat(self):\n",
    "        '''\n",
    "        Print statistics to stdout.\n",
    "        '''\n",
    "        for k in self.waitingTime:\n",
    "            self.TIS[k] = self.waitingTime[k] + self.serviceTime[k]\n",
    "        n1 = len(self.waitingTime)\n",
    "        n2 = len(self.serviceTime)\n",
    "        n3 = len(self.TIS)\n",
    "        av1 = sum(self.waitingTime.values())/n1\n",
    "        av2 = sum(self.serviceTime.values())/n2\n",
    "        av3 = sum(self.TIS.values())/n3\n",
    "        meanQueueLen = 0\n",
    "        for i in range(2000,len(self.queueLen)):\n",
    "            meanQueueLen += self.queueLen[i] * (self.clock[i] - self.clock[i-1])/(self.clock[-1]\n",
    "                                                                                  -self.clock[2000])\n",
    "            \n",
    "        return meanQueueLen, av3, self.customerLow, self.customerHigh       \n",
    "            "
   ]
  },
  {
   "cell_type": "code",
   "execution_count": 357,
   "metadata": {},
   "outputs": [],
   "source": [
    "# if queue length >= 10, the customer will leave.\n",
    "# test the server's total payoff \n",
    "if __name__ == '__main__':\n",
    "    length = 5000\n",
    "    server_num = 1\n",
    "    IAT = 1\n",
    "    ST =  0.8\n",
    "    bars = np.linspace(0,11,12)\n",
    "    m = len(bars)\n",
    "#     m = 1\n",
    "    meanNumber2 = [0]*m\n",
    "    meanDelay2 = [0]*m\n",
    "    low = [0]*m\n",
    "    high = [0]*m    \n",
    "    for i in range(m): \n",
    "        seed(1234567)\n",
    "        n = 10\n",
    "        number = [0]*n\n",
    "        delay = [0]*n\n",
    "        customerLow = [0]*n\n",
    "        customerHigh = [0]*n\n",
    "        for j in range(n):             \n",
    "            eq = singleQueue(IAT = IAT, ST = ST, queuelim = 10,\n",
    "                            server_num = server_num, queueing_mode = 'single', bar = bars[i])    \n",
    "            eq.simulate(length)        \n",
    "            number[j], delay[j], customerLow[j], customerHigh[j]  = eq.stat()            \n",
    "        meanNumber2[i] = np.mean(number)\n",
    "        meanDelay2[i] = np.mean(delay)\n",
    "        low[i] = np.mean(customerLow)\n",
    "        high[i] = np.mean(customerHigh)"
   ]
  },
  {
   "cell_type": "code",
   "execution_count": 358,
   "metadata": {},
   "outputs": [],
   "source": [
    "# payoff = 10*totalCustomer - 5*high - 2*low\n",
    "def payoff(high, low):\n",
    "    res = []\n",
    "    for i in range(len(low)):\n",
    "        res.append(10*(high[i] + low[i]) - 5*high[i]  - 2*low[i]  )\n",
    "    return res"
   ]
  },
  {
   "cell_type": "code",
   "execution_count": 359,
   "metadata": {},
   "outputs": [
    {
     "data": {
      "text/plain": [
       "[3.16136980701338,\n",
       " 4.072430380493644,\n",
       " 4.763982788550385,\n",
       " 5.436327203975603,\n",
       " 6.089455282828069,\n",
       " 6.7558374600501025,\n",
       " 7.351025939566846,\n",
       " 7.946675418497806,\n",
       " 8.453747510530516,\n",
       " 8.967905965193081,\n",
       " 9.36615912804937,\n",
       " 9.36615912804937]"
      ]
     },
     "execution_count": 359,
     "metadata": {},
     "output_type": "execute_result"
    }
   ],
   "source": [
    "meanNumber2"
   ]
  },
  {
   "cell_type": "code",
   "execution_count": 360,
   "metadata": {},
   "outputs": [
    {
     "data": {
      "text/plain": [
       "[3.1857751394287264,\n",
       " 4.16237972497248,\n",
       " 4.918922252879317,\n",
       " 5.6733370921627175,\n",
       " 6.44764077650872,\n",
       " 7.300495487733707,\n",
       " 8.177845728705721,\n",
       " 9.222579507097755,\n",
       " 10.479784963291083,\n",
       " 12.199874874259363,\n",
       " 14.884173089513876,\n",
       " 14.884173089513876]"
      ]
     },
     "execution_count": 360,
     "metadata": {},
     "output_type": "execute_result"
    }
   ],
   "source": [
    "meanDelay2"
   ]
  },
  {
   "cell_type": "code",
   "execution_count": 361,
   "metadata": {},
   "outputs": [
    {
     "data": {
      "text/plain": [
       "[3873.1,\n",
       " 3659.6,\n",
       " 3513.5,\n",
       " 3377.6,\n",
       " 3200.7,\n",
       " 3004.0,\n",
       " 2729.9,\n",
       " 2360.1,\n",
       " 1822.7,\n",
       " 1085.6,\n",
       " 0.0,\n",
       " 0.0]"
      ]
     },
     "execution_count": 361,
     "metadata": {},
     "output_type": "execute_result"
    }
   ],
   "source": [
    "high"
   ]
  },
  {
   "cell_type": "code",
   "execution_count": 362,
   "metadata": {},
   "outputs": [
    {
     "data": {
      "text/plain": [
       "[0.0,\n",
       " 659.1,\n",
       " 976.1,\n",
       " 1183.4,\n",
       " 1353.3,\n",
       " 1511.6,\n",
       " 1678.5,\n",
       " 1883.7,\n",
       " 2168.1,\n",
       " 2550.2,\n",
       " 3115.2,\n",
       " 3115.2]"
      ]
     },
     "execution_count": 362,
     "metadata": {},
     "output_type": "execute_result"
    }
   ],
   "source": [
    "low"
   ]
  },
  {
   "cell_type": "code",
   "execution_count": 363,
   "metadata": {},
   "outputs": [],
   "source": [
    "pay = payoff(high, low)"
   ]
  },
  {
   "cell_type": "code",
   "execution_count": 364,
   "metadata": {},
   "outputs": [
    {
     "data": {
      "text/plain": [
       "[19365.5,\n",
       " 23570.8,\n",
       " 25376.3,\n",
       " 26355.2,\n",
       " 26829.9,\n",
       " 27112.8,\n",
       " 27077.5,\n",
       " 26870.1,\n",
       " 26458.3,\n",
       " 25829.6,\n",
       " 24921.6,\n",
       " 24921.6]"
      ]
     },
     "execution_count": 364,
     "metadata": {},
     "output_type": "execute_result"
    }
   ],
   "source": [
    "pay"
   ]
  },
  {
   "cell_type": "code",
   "execution_count": 365,
   "metadata": {},
   "outputs": [
    {
     "data": {
      "image/png": "[encoded data removed]",
      "text/plain": [
       "<Figure size 504x288 with 1 Axes>"
      ]
     },
     "metadata": {
      "needs_background": "light"
     },
     "output_type": "display_data"
    }
   ],
   "source": [
    "fig,ax = plt.subplots(1,figsize=(7,4))\n",
    "ax.plot(bars,pay,\"o-\");\n",
    "ax.set_xticks(bars);\n",
    "ax.set_xlabel(r\"$n$\",fontsize = 16)\n",
    "ax.set_ylabel(r\"$P$\",fontsize = 16);\n",
    "plt.savefig(\"./single_10.pdf\")"
   ]
  },
  {
   "cell_type": "markdown",
   "metadata": {},
   "source": [
    "# Two queues two servers"
   ]
  },
  {
   "cell_type": "code",
   "execution_count": 159,
   "metadata": {},
   "outputs": [],
   "source": [
    "# Event Types\n",
    "ARRIVE = 0\n",
    "DEPART0 = 1\n",
    "DEPART1 = 2\n",
    "\n",
    "# Server States\n",
    "IDLE = 0\n",
    "BUSY = 1"
   ]
  },
  {
   "cell_type": "code",
   "execution_count": 336,
   "metadata": {},
   "outputs": [],
   "source": [
    "import random\n",
    "class twoQueues(object):\n",
    "    '''\n",
    "    This class holds the attributes and methods for the simulation of M/M/s\n",
    "    queueing system\n",
    "    '''\n",
    "    def __init__(self, IAT = 3, ST = 8, \n",
    "                 server_num = 1, queueing_mode = 'double', bar0 = 3,bar1 = 3):\n",
    "        '''\n",
    "        Constructor of the class, sets initial values for class attributes\n",
    "        Post: self.ii, self.seed, self.IAT, self.ST, self.currentTime,\n",
    "        self.eventTable, self.waitingTime, self.TIS, self.serviceTime,\n",
    "        self.eventCounter, self.customerCounter, self.server, self.sqList\n",
    "        self.pi\n",
    "        '''\n",
    "        self.bar0 = bar0\n",
    "        self.bar1 = bar1\n",
    "        self.ii = 0\n",
    "#         seed(seedInput)\n",
    "#         self.seed = seedInput\n",
    "        self.IAT = IAT\n",
    "        self.ST = ST\n",
    "        self.clock = []\n",
    "\n",
    "        self.currentTime = 0.0\n",
    "#         self.queueSize = {}\n",
    "        self.queueLen = []\n",
    "        self.eventTable = []\n",
    "        self.waitingTime = {}\n",
    "        self.TIS = {}\n",
    "        self.serviceTime = {}\n",
    "        self.eventCounter = 0\n",
    "        self.customerCounter = 0\n",
    "        self.eventCounter = 0\n",
    "        \n",
    "        self.customerLow = [0,0]\n",
    "        self.customerHigh = [0,0]\n",
    "        \n",
    "        self.server = [IDLE for i in range(server_num)]\n",
    "        self.sqList = [Queue() for i in range(server_num)]\n",
    "#         self.numberInSystem = []\n",
    "        self.add_event(ARRIVE, self.currentTime)\n",
    "        \n",
    "\n",
    "    def simulate(self, simulationLength):\n",
    "        '''\n",
    "        Simulates the system for simulationLength time units\n",
    "        '''\n",
    "        while self.currentTime <= simulationLength:\n",
    "            event = self.get_event()\n",
    "            self.process_event(event)\n",
    "            \n",
    "    def which_queue(self):\n",
    "        '''\n",
    "        When an arrival occurs this methods is called if  there is an available\n",
    "        server this method returns to the tuple of (queue,server) where queue\n",
    "        represents the queue that the customer should join and server is one of\n",
    "        the available servers if there is no available server, server value\n",
    "        returned is None\n",
    "        '''\n",
    "        # Single server policy\n",
    "        for i in range(server_num):\n",
    "            if self.sqList[i].isEmpty():\n",
    "                if self.server[i] == IDLE:\n",
    "                    self.server[i] = BUSY\n",
    "                    return i, 1\n",
    "\n",
    "        if self.sqList[0].size() < self.sqList[1].size():\n",
    "            return 0, None\n",
    "        elif self.sqList[0].size() > self.sqList[1].size():\n",
    "            return 1, None\n",
    "        else:\n",
    "            return random.choice([0,1]), None\n",
    "        \n",
    "#         return 0, None\n",
    "    \n",
    "# need to consider which_queue: the first arrival needs to depart        \n",
    "    def process_event(self, event):\n",
    "        '''\n",
    "        processes event given and updates sqList and eventTable accordingly\n",
    "        '''\n",
    "#         self.queueSize[self.currentTime] = self.sqList[0].size()\n",
    "#         print(self.seed)\n",
    "        self.eventCounter += 1\n",
    "        self.clock.append(self.currentTime)\n",
    "\n",
    "        eventTime, eventType = event\n",
    "        \n",
    "        if eventType == ARRIVE: \n",
    "            \n",
    "            serviceTime = expovariate(1.0/self.ST)            \n",
    "            \n",
    "            self.add_event(ARRIVE, self.currentTime + expovariate(1.0/self.IAT))\n",
    "            \n",
    "            whichQueue, whichServer = self.which_queue()\n",
    "            \n",
    "#             print(self.sqList[0].size(), self.sqList[1].size(), whichQueue)\n",
    "            \n",
    "            if (self.sqList[0].size() + self.sqList[1].size()) <= 20:\n",
    "                \n",
    "                if whichServer == None:\n",
    "                    self.sqList[whichQueue].enqueue(Customer(self.currentTime, \n",
    "                                                             serviceTime, \n",
    "                                                             self.customerCounter))\n",
    "                else:\n",
    "                    self.waitingTime[self.customerCounter] = 0\n",
    "                    self.serviceTime[self.customerCounter] = serviceTime\n",
    "                    \n",
    "                    if whichQueue == 0:\n",
    "                        self.add_event(DEPART0, self.currentTime + serviceTime)\n",
    "                    elif whichQueue == 1:\n",
    "                        self.add_event(DEPART1, self.currentTime + serviceTime)\n",
    "                        \n",
    "                self.customerCounter += 1\n",
    "                \n",
    "                                   \n",
    "        elif eventType == DEPART0:\n",
    "\n",
    "            q = self.sqList[0]\n",
    "            if not q.isEmpty():                    \n",
    "                customer = q.dequeue()\n",
    "                if q.size() <= self.bar0:\n",
    "                    customer.serviceTime *= 2\n",
    "                    self.customerLow[0] += 1\n",
    "                else:\n",
    "                    self.customerHigh[0] += 1\n",
    "                    \n",
    "                self.waitingTime[customer.number] = (self.currentTime - \n",
    "                                                     customer.entryTime)\n",
    "                self.serviceTime[customer.number] = customer.serviceTime\n",
    "                self.add_event(DEPART0, self.currentTime + customer.serviceTime)\n",
    "            else:\n",
    "                self.server[0] = IDLE\n",
    "                \n",
    "\n",
    "        elif eventType == DEPART1:\n",
    "\n",
    "            q = self.sqList[1]\n",
    "            if not q.isEmpty():                    \n",
    "                customer = q.dequeue()\n",
    "                if q.size() < self.bar1:\n",
    "                    customer.serviceTime *= 2\n",
    "                    self.customerLow[1] += 1\n",
    "                else:\n",
    "                    self.customerHigh[1] += 1\n",
    "                    \n",
    "                self.waitingTime[customer.number] = (self.currentTime - \n",
    "                                                     customer.entryTime)\n",
    "                self.serviceTime[customer.number] = customer.serviceTime\n",
    "                self.add_event(DEPART1, self.currentTime + customer.serviceTime)\n",
    "            else:\n",
    "                self.server[1] = IDLE\n",
    "\n",
    "                \n",
    "                \n",
    "        else:\n",
    "            print(\"Unknown event type\")\n",
    "\n",
    "    def add_event(self, eventType, eventTime):\n",
    "        '''\n",
    "        Adds event to the eventTable\n",
    "        '''        \n",
    "        self.eventCounter += 1\n",
    "        heapq.heappush(self.eventTable, (eventTime, eventType))\n",
    "        \n",
    "    def get_event(self):\n",
    "        '''\n",
    "        Gets the first event in the event table\n",
    "        '''        \n",
    "        eventTime, eventType = heapq.heappop(self.eventTable)\n",
    "        self.currentTime = eventTime\n",
    "        return (eventTime, eventType)\n",
    "    \n",
    "    def stat(self):\n",
    "        '''\n",
    "        Print statistics to stdout.\n",
    "        '''\n",
    "        for k in self.waitingTime:\n",
    "            self.TIS[k] = self.waitingTime[k] + self.serviceTime[k]\n",
    "        n1 = len(self.waitingTime)\n",
    "        n2 = len(self.serviceTime)\n",
    "        n3 = len(self.TIS)\n",
    "        av1 = sum(self.waitingTime.values())/n1\n",
    "        av2 = sum(self.serviceTime.values())/n2\n",
    "        av3 = sum(self.TIS.values())/n3\n",
    "        meanQueueLen = 0\n",
    "        for i in range(2000,len(self.queueLen)):\n",
    "            meanQueueLen += self.queueLen[i] * (self.clock[i] - self.clock[i-1])/(self.clock[-1]\n",
    "                                                                                  -self.clock[2000])\n",
    "            \n",
    "        return self.customerLow[0], self.customerLow[1], self.customerHigh[0],self.customerHigh[1]      \n",
    "            "
   ]
  },
  {
   "cell_type": "code",
   "execution_count": 439,
   "metadata": {},
   "outputs": [],
   "source": [
    "# payoff = 10*totalCustomer - 5*high - 2*low\n",
    "def payoff2(high0,low0,high1,low1):\n",
    "    pay0 = []\n",
    "    pay1 = []\n",
    "    N = []\n",
    "    for i in range(len(low0)):\n",
    "        N.append(high0[i] + low0[i] + high1[i] + low1[i]) \n",
    "        pay0.append(10*N[i] - 5*high0[i]  - 2*low0[i] + 4*(high0[i] + low0[i]) )\n",
    "        pay1.append(10*N[i] - 5*high1[i]  - 2*low1[i] +  4*(high1[i] + low1[i]) )\n",
    "    return pay0, pay1"
   ]
  },
  {
   "cell_type": "code",
   "execution_count": 426,
   "metadata": {},
   "outputs": [
    {
     "name": "stdout",
     "output_type": "stream",
     "text": [
      "[52049.0] [52087.49999999999]\n"
     ]
    }
   ],
   "source": [
    "# S1: 0high1high\n",
    "# if queue length >= 10, the customer will leave.\n",
    "# test the server's total payoff \n",
    "if __name__ == '__main__':\n",
    "\n",
    "# def two_queue()\n",
    "    length = 5000\n",
    "    server_num = 2\n",
    "    IAT = 0.5\n",
    "    ST = 0.8\n",
    "#     bars = np.linspace(0,11,12)\n",
    "#     m = len(bars)\n",
    "    m = 1\n",
    "    meanNumber2 = [0]*m\n",
    "    meanDelay2 = [0]*m\n",
    "    low0 = [0]*m\n",
    "    high0 = [0]*m  \n",
    "    low1 = [0]*m\n",
    "    high1 = [0]*m  \n",
    "    for i in range(m): \n",
    "        seed(1234567)\n",
    "        n = 30\n",
    "        number = [0]*n\n",
    "        delay = [0]*n\n",
    "        customerLow0 = [0]*n\n",
    "        customerHigh0 = [0]*n\n",
    "        customerLow1 = [0]*n\n",
    "        customerHigh1 = [0]*n\n",
    "        for j in range(n):             \n",
    "            eq = twoQueues(IAT = IAT, ST = ST,server_num = server_num, queueing_mode = 'double', \n",
    "                           bar0 = -float('Inf'), bar1 = -float('Inf'))   \n",
    "            \n",
    "            eq.simulate(length)        \n",
    "            \n",
    "            customerLow0[j], customerLow1[j], customerHigh0[j], customerHigh1[j]= eq.stat()    \n",
    "            \n",
    "        low0[i] = np.mean(customerLow0)\n",
    "        high0[i] = np.mean(customerHigh0)\n",
    "        low1[i] = np.mean(customerLow1)\n",
    "        high1[i] = np.mean(customerHigh1)\n",
    "        \n",
    "# bars = np.linspace(0,11,12)\n",
    "# pay0 = payoff2(high0, low0)\n",
    "s1pay0, s1pay1 = payoff2(high0,low0,high1,low1)\n",
    "print(s1pay0, s1pay1)\n",
    "# fig,ax = plt.subplots(1,figsize=(7,4))\n",
    "# ax.plot(bars, s4pay0,'o-', label = \"Server 0\")\n",
    "# ax.plot(bars, s4pay1, 'o-', label = \"Server 1\")\n",
    "# ax.legend()\n",
    "# ax.set_xlabel(r\"$n$\",fontsize = 16)\n",
    "# ax.set_ylabel(r\"$P$\",fontsize = 16);\n",
    "# ax.set_xticks(bars)\n",
    "# plt.savefig(\"./0bar1high.pdf\")"
   ]
  },
  {
   "cell_type": "code",
   "execution_count": 424,
   "metadata": {},
   "outputs": [
    {
     "name": "stdout",
     "output_type": "stream",
     "text": [
      "[56291.8] [56274.8]\n"
     ]
    }
   ],
   "source": [
    "# S2: 0low1low\n",
    "# if queue length >= 10, the customer will leave.\n",
    "# test the server's total payoff \n",
    "if __name__ == '__main__':\n",
    "\n",
    "# def two_queue()\n",
    "    length = 5000\n",
    "    server_num = 2\n",
    "    IAT = 0.5\n",
    "    ST = 0.8\n",
    "#     bars = np.linspace(0,11,12)\n",
    "#     m = len(bars)\n",
    "    m = 1\n",
    "    meanNumber2 = [0]*m\n",
    "    meanDelay2 = [0]*m\n",
    "    low0 = [0]*m\n",
    "    high0 = [0]*m  \n",
    "    low1 = [0]*m\n",
    "    high1 = [0]*m  \n",
    "    for i in range(m): \n",
    "        seed(1234567)\n",
    "        n = 30\n",
    "        number = [0]*n\n",
    "        delay = [0]*n\n",
    "        customerLow0 = [0]*n\n",
    "        customerHigh0 = [0]*n\n",
    "        customerLow1 = [0]*n\n",
    "        customerHigh1 = [0]*n\n",
    "        for j in range(n):             \n",
    "            eq = twoQueues(IAT = IAT, ST = ST,server_num = server_num, queueing_mode = 'double', \n",
    "                           bar0 = float('Inf'), bar1 = float('Inf'))   \n",
    "            \n",
    "            eq.simulate(length)        \n",
    "            \n",
    "            customerLow0[j], customerLow1[j], customerHigh0[j], customerHigh1[j]= eq.stat()    \n",
    "            \n",
    "        low0[i] = np.mean(customerLow0)\n",
    "        high0[i] = np.mean(customerHigh0)\n",
    "        low1[i] = np.mean(customerLow1)\n",
    "        high1[i] = np.mean(customerHigh1)\n",
    "        \n",
    "# bars = np.linspace(0,11,12)\n",
    "# pay0 = payoff2(high0, low0)\n",
    "s2pay0, s2pay1 = payoff2(high0,low0,high1,low1)\n",
    "print(s2pay0, s2pay1)\n",
    "# fig,ax = plt.subplots(1,figsize=(7,4))\n",
    "# ax.plot(bars, s4pay0,'o-', label = \"Server 0\")\n",
    "# ax.plot(bars, s4pay1, 'o-', label = \"Server 1\")\n",
    "# ax.legend()\n",
    "# ax.set_xlabel(r\"$n$\",fontsize = 16)\n",
    "# ax.set_ylabel(r\"$P$\",fontsize = 16);\n",
    "# ax.set_xticks(bars)\n",
    "# plt.savefig(\"./0bar1high.pdf\")"
   ]
  },
  {
   "cell_type": "code",
   "execution_count": 425,
   "metadata": {},
   "outputs": [
    {
     "data": {
      "text/plain": [
       "[3122.6]"
      ]
     },
     "execution_count": 425,
     "metadata": {},
     "output_type": "execute_result"
    }
   ],
   "source": [
    "low0"
   ]
  },
  {
   "cell_type": "code",
   "execution_count": 427,
   "metadata": {},
   "outputs": [
    {
     "data": {
      "image/png": "[encoded data removed]",
      "text/plain": [
       "<Figure size 504x288 with 1 Axes>"
      ]
     },
     "metadata": {
      "needs_background": "light"
     },
     "output_type": "display_data"
    }
   ],
   "source": [
    "# S3: 0bar1bar\n",
    "# if queue length >= 10, the customer will leave.\n",
    "# test the server's total payoff \n",
    "if __name__ == '__main__':\n",
    "\n",
    "# def two_queue()\n",
    "    length = 5000\n",
    "    server_num = 2\n",
    "    IAT = 0.5\n",
    "    ST = 0.8\n",
    "    bars = np.linspace(0,11,12)\n",
    "    m = len(bars)\n",
    "    meanNumber2 = [0]*m\n",
    "    meanDelay2 = [0]*m\n",
    "    low0 = [0]*m\n",
    "    high0 = [0]*m  \n",
    "    low1 = [0]*m\n",
    "    high1 = [0]*m  \n",
    "    for i in range(m): \n",
    "        seed(1234567)\n",
    "        n = 30\n",
    "        number = [0]*n\n",
    "        delay = [0]*n\n",
    "        customerLow0 = [0]*n\n",
    "        customerHigh0 = [0]*n\n",
    "        customerLow1 = [0]*n\n",
    "        customerHigh1 = [0]*n\n",
    "        for j in range(n):             \n",
    "            eq = twoQueues(IAT = IAT, ST = ST,server_num = server_num, queueing_mode = 'double', \n",
    "                           bar0 = bars[i], bar1 =bars[i])   \n",
    "            \n",
    "            eq.simulate(length)        \n",
    "            \n",
    "            customerLow0[j], customerLow1[j], customerHigh0[j], customerHigh1[j]= eq.stat()    \n",
    "            \n",
    "        low0[i] = np.mean(customerLow0)\n",
    "        high0[i] = np.mean(customerHigh0)\n",
    "        low1[i] = np.mean(customerLow1)\n",
    "        high1[i] = np.mean(customerHigh1)\n",
    "        \n",
    "# bars = np.linspace(0,11,12)\n",
    "# pay0 = payoff2(high0, low0)\n",
    "s3pay0, s3pay1 = payoff2(high0,low0,high1,low1)\n",
    "fig,ax = plt.subplots(1,figsize=(7,4))\n",
    "ax.plot(bars, s3pay0,'o-', label = \"Server 0\")\n",
    "ax.plot(bars, s3pay1, 'o-', label = \"Server 1\")\n",
    "ax.legend()\n",
    "ax.set_xlabel(r\"$n$\",fontsize = 16)\n",
    "ax.set_ylabel(r\"$P$\",fontsize = 16);\n",
    "ax.set_xticks(bars)\n",
    "plt.savefig(\"./0bar1bar.pdf\")"
   ]
  },
  {
   "cell_type": "code",
   "execution_count": 429,
   "metadata": {},
   "outputs": [
    {
     "data": {
      "text/plain": [
       "[63688.266666666656,\n",
       " 73572.83333333331,\n",
       " 77076.66666666669,\n",
       " 78860.23333333334,\n",
       " 79095.79999999999,\n",
       " 78813.2,\n",
       " 77816.33333333333,\n",
       " 76265.83333333333,\n",
       " 73249.33333333334,\n",
       " 67949.0,\n",
       " 60052.33333333333,\n",
       " 56291.8]"
      ]
     },
     "execution_count": 429,
     "metadata": {},
     "output_type": "execute_result"
    }
   ],
   "source": [
    "s3pay0"
   ]
  },
  {
   "cell_type": "code",
   "execution_count": 430,
   "metadata": {},
   "outputs": [
    {
     "data": {
      "text/plain": [
       "[59043.33333333333,\n",
       " 69921.96666666665,\n",
       " 73315.93333333333,\n",
       " 74959.96666666666,\n",
       " 75075.59999999999,\n",
       " 74724.79999999999,\n",
       " 73423.26666666666,\n",
       " 71417.66666666666,\n",
       " 67708.66666666667,\n",
       " 61491.299999999996,\n",
       " 57088.26666666666,\n",
       " 56274.8]"
      ]
     },
     "execution_count": 430,
     "metadata": {},
     "output_type": "execute_result"
    }
   ],
   "source": [
    "s3pay1"
   ]
  },
  {
   "cell_type": "code",
   "execution_count": 440,
   "metadata": {},
   "outputs": [
    {
     "data": {
      "image/png": "[encoded data removed]",
      "text/plain": [
       "<Figure size 504x288 with 1 Axes>"
      ]
     },
     "metadata": {
      "needs_background": "light"
     },
     "output_type": "display_data"
    }
   ],
   "source": [
    "# S4: 0bar1high\n",
    "# if queue length >= 10, the customer will leave.\n",
    "# test the server's total payoff \n",
    "if __name__ == '__main__':\n",
    "\n",
    "# def two_queue()\n",
    "    length = 5000\n",
    "    server_num = 2\n",
    "    IAT = 0.5\n",
    "    ST = 0.8\n",
    "    bars = np.linspace(0,11,12)\n",
    "    m = len(bars)\n",
    "    meanNumber2 = [0]*m\n",
    "    meanDelay2 = [0]*m\n",
    "    low0 = [0]*m\n",
    "    high0 = [0]*m  \n",
    "    low1 = [0]*m\n",
    "    high1 = [0]*m  \n",
    "    for i in range(m): \n",
    "        seed(1234567)\n",
    "        n = 30\n",
    "        number = [0]*n\n",
    "        delay = [0]*n\n",
    "        customerLow0 = [0]*n\n",
    "        customerHigh0 = [0]*n\n",
    "        customerLow1 = [0]*n\n",
    "        customerHigh1 = [0]*n\n",
    "        for j in range(n):             \n",
    "            eq = twoQueues(IAT = IAT, ST = ST,server_num = server_num, queueing_mode = 'double', \n",
    "                           bar0 = bars[i], bar1 = -float('Inf'))   \n",
    "            \n",
    "            eq.simulate(length)        \n",
    "            \n",
    "            customerLow0[j], customerLow1[j], customerHigh0[j], customerHigh1[j]= eq.stat()    \n",
    "            \n",
    "        low0[i] = np.mean(customerLow0)\n",
    "        high0[i] = np.mean(customerHigh0)\n",
    "        low1[i] = np.mean(customerLow1)\n",
    "        high1[i] = np.mean(customerHigh1)\n",
    "        \n",
    "# bars = np.linspace(0,11,12)\n",
    "# pay0 = payoff2(high0, low0)\n",
    "s4pay0, s4pay1 = payoff2(high0,low0,high1,low1)\n",
    "fig,ax = plt.subplots(1,figsize=(7,4))\n",
    "ax.plot(bars, s4pay0,'o-', label = \"Server 0\")\n",
    "ax.plot(bars, s4pay1, 'o-', label = \"Server 1\")\n",
    "ax.legend()\n",
    "ax.set_xlabel(r\"$n$\",fontsize = 16)\n",
    "ax.set_ylabel(r\"$P$\",fontsize = 16);\n",
    "ax.set_xticks(bars)\n",
    "plt.savefig(\"./0bar1high_.pdf\")"
   ]
  },
  {
   "cell_type": "code",
   "execution_count": 432,
   "metadata": {},
   "outputs": [
    {
     "data": {
      "text/plain": [
       "[63688.266666666656,\n",
       " 69843.36666666667,\n",
       " 73520.13333333335,\n",
       " 76610.06666666667,\n",
       " 78241.36666666667,\n",
       " 79760.29999999999,\n",
       " 80961.70000000001,\n",
       " 81567.53333333334,\n",
       " 81707.70000000001,\n",
       " 81818.0,\n",
       " 82192.4,\n",
       " 82192.4]"
      ]
     },
     "execution_count": 432,
     "metadata": {},
     "output_type": "execute_result"
    }
   ],
   "source": [
    "s4pay0"
   ]
  },
  {
   "cell_type": "code",
   "execution_count": 433,
   "metadata": {},
   "outputs": [
    {
     "data": {
      "text/plain": [
       "[59043.33333333333,\n",
       " 62030.333333333336,\n",
       " 63286.66666666668,\n",
       " 64335.833333333336,\n",
       " 64333.33333333333,\n",
       " 64371.0,\n",
       " 64147.50000000001,\n",
       " 63350.166666666664,\n",
       " 61970.0,\n",
       " 59980.99999999999,\n",
       " 59237.0,\n",
       " 59237.0]"
      ]
     },
     "execution_count": 433,
     "metadata": {},
     "output_type": "execute_result"
    }
   ],
   "source": [
    "s4pay1"
   ]
  },
  {
   "cell_type": "code",
   "execution_count": 441,
   "metadata": {},
   "outputs": [
    {
     "data": {
      "image/png": "[encoded data removed]",
      "text/plain": [
       "<Figure size 504x288 with 1 Axes>"
      ]
     },
     "metadata": {
      "needs_background": "light"
     },
     "output_type": "display_data"
    }
   ],
   "source": [
    "# S5: 0bar1low\n",
    "# if queue length >= 10, the customer will leave.\n",
    "# test the server's total payoff \n",
    "if __name__ == '__main__':\n",
    "\n",
    "# def two_queue()\n",
    "    length = 5000\n",
    "    server_num = 2\n",
    "    IAT = 0.5\n",
    "    ST = 0.8\n",
    "    bars = np.linspace(0,11,12)\n",
    "    m = len(bars)\n",
    "    meanNumber2 = [0]*m\n",
    "    meanDelay2 = [0]*m\n",
    "    low0 = [0]*m\n",
    "    high0 = [0]*m  \n",
    "    low1 = [0]*m\n",
    "    high1 = [0]*m  \n",
    "    for i in range(m): \n",
    "        seed(1234567)\n",
    "        n = 30\n",
    "        number = [0]*n\n",
    "        delay = [0]*n\n",
    "        customerLow0 = [0]*n\n",
    "        customerHigh0 = [0]*n\n",
    "        customerLow1 = [0]*n\n",
    "        customerHigh1 = [0]*n\n",
    "        for j in range(n):             \n",
    "            eq = twoQueues(IAT = IAT, ST = ST,server_num = server_num, queueing_mode = 'double', \n",
    "                           bar0 = bars[i], bar1 = float('Inf'))   \n",
    "            \n",
    "            eq.simulate(length)        \n",
    "            \n",
    "            customerLow0[j], customerLow1[j], customerHigh0[j], customerHigh1[j]= eq.stat()    \n",
    "            \n",
    "        low0[i] = np.mean(customerLow0)\n",
    "        high0[i] = np.mean(customerHigh0)\n",
    "        low1[i] = np.mean(customerLow1)\n",
    "        high1[i] = np.mean(customerHigh1)\n",
    "        \n",
    "# bars = np.linspace(0,11,12)\n",
    "# pay0 = payoff2(high0, low0)\n",
    "s5pay0, s5pay1 = payoff2(high0,low0,high1,low1)\n",
    "fig,ax = plt.subplots(1,figsize=(7,4))\n",
    "ax.plot(bars, s5pay0,'o-', label = \"Server 0\")\n",
    "ax.plot(bars, s5pay1, 'o-', label = \"Server 1\")\n",
    "ax.legend()\n",
    "ax.set_xlabel(r\"$n$\",fontsize = 16)\n",
    "ax.set_ylabel(r\"$P$\",fontsize = 16);\n",
    "ax.set_xticks(bars)\n",
    "plt.savefig(\"./0bar1low_.pdf\")"
   ]
  },
  {
   "cell_type": "code",
   "execution_count": 435,
   "metadata": {},
   "outputs": [
    {
     "data": {
      "text/plain": [
       "[60700.76666666665,\n",
       " 61268.76666666668,\n",
       " 61611.899999999994,\n",
       " 61325.03333333333,\n",
       " 61389.63333333334,\n",
       " 61128.13333333333,\n",
       " 60622.033333333326,\n",
       " 59723.899999999994,\n",
       " 58583.299999999996,\n",
       " 57040.03333333333,\n",
       " 56291.8,\n",
       " 56291.8]"
      ]
     },
     "execution_count": 435,
     "metadata": {},
     "output_type": "execute_result"
    }
   ],
   "source": [
    "s5pay0"
   ]
  },
  {
   "cell_type": "code",
   "execution_count": 436,
   "metadata": {},
   "outputs": [
    {
     "data": {
      "text/plain": [
       "[83506.73333333331,\n",
       " 83583.93333333335,\n",
       " 83443.4,\n",
       " 82505.86666666667,\n",
       " 81356.26666666668,\n",
       " 79814.86666666667,\n",
       " 77279.46666666666,\n",
       " 73513.4,\n",
       " 67962.0,\n",
       " 59971.066666666666,\n",
       " 56274.8,\n",
       " 56274.8]"
      ]
     },
     "execution_count": 436,
     "metadata": {},
     "output_type": "execute_result"
    }
   ],
   "source": [
    "s5pay1"
   ]
  },
  {
   "cell_type": "code",
   "execution_count": 437,
   "metadata": {},
   "outputs": [
    {
     "name": "stdout",
     "output_type": "stream",
     "text": [
      "[59080.000000000015] [81964.8]\n"
     ]
    }
   ],
   "source": [
    "# S6: 0high1low\n",
    "# if queue length >= 10, the customer will leave.\n",
    "# test the server's total payoff \n",
    "if __name__ == '__main__':\n",
    "\n",
    "# def two_queue()\n",
    "    length = 5000\n",
    "    server_num = 2\n",
    "    IAT = 0.5\n",
    "    ST = 0.8\n",
    "#     bars = np.linspace(0,11,12)\n",
    "#     m = len(bars)\n",
    "    m = 1\n",
    "    meanNumber2 = [0]*m\n",
    "    meanDelay2 = [0]*m\n",
    "    low0 = [0]*m\n",
    "    high0 = [0]*m  \n",
    "    low1 = [0]*m\n",
    "    high1 = [0]*m  \n",
    "    for i in range(m): \n",
    "        seed(1234567)\n",
    "        n = 30\n",
    "        number = [0]*n\n",
    "        delay = [0]*n\n",
    "        customerLow0 = [0]*n\n",
    "        customerHigh0 = [0]*n\n",
    "        customerLow1 = [0]*n\n",
    "        customerHigh1 = [0]*n\n",
    "        for j in range(n):             \n",
    "            eq = twoQueues(IAT = IAT, ST = ST,server_num = server_num, queueing_mode = 'double', \n",
    "                           bar0 = -float('Inf'), bar1 = float('Inf'))   \n",
    "            \n",
    "            eq.simulate(length)        \n",
    "            \n",
    "            customerLow0[j], customerLow1[j], customerHigh0[j], customerHigh1[j]= eq.stat()    \n",
    "            \n",
    "        low0[i] = np.mean(customerLow0)\n",
    "        high0[i] = np.mean(customerHigh0)\n",
    "        low1[i] = np.mean(customerLow1)\n",
    "        high1[i] = np.mean(customerHigh1)\n",
    "        \n",
    "# bars = np.linspace(0,11,12)\n",
    "# pay0 = payoff2(high0, low0)\n",
    "s6pay0, s6pay1 = payoff2(high0,low0,high1,low1)\n",
    "print(s6pay0, s6pay1)\n",
    "# fig,ax = plt.subplots(1,figsize=(7,4))\n",
    "# ax.plot(bars, s5pay0,'o-', label = \"Server 0\")\n",
    "# ax.plot(bars, s5pay1, 'o-', label = \"Server 1\")\n",
    "# ax.legend()\n",
    "# ax.set_xlabel(r\"$n$\",fontsize = 16)\n",
    "# ax.set_ylabel(r\"$P$\",fontsize = 16);\n",
    "# ax.set_xticks(bars)\n",
    "# plt.savefig(\"./0bar1low.pdf\")"
   ]
  },
  {
   "cell_type": "code",
   "execution_count": null,
   "metadata": {},
   "outputs": [],
   "source": []
  }
 ],
 "metadata": {
  "kernelspec": {
   "display_name": "Python 3",
   "language": "python",
   "name": "python3"
  },
  "language_info": {
   "codemirror_mode": {
    "name": "ipython",
    "version": 3
   },
   "file_extension": ".py",
   "mimetype": "text/x-python",
   "name": "python",
   "nbconvert_exporter": "python",
   "pygments_lexer": "ipython3",
   "version": "3.7.3"
  }
 },
 "nbformat": 4,
 "nbformat_minor": 2
}
